{
 "cells": [
  {
   "cell_type": "markdown",
   "metadata": {},
   "source": [
    "# Task: Build Transformer (TF) for implementing linear_search"
   ]
  },
  {
   "cell_type": "code",
   "execution_count": 3,
   "metadata": {},
   "outputs": [],
   "source": [
    "%load_ext autoreload\n",
    "%autoreload 2\n",
    "import numpy as np\n",
    "import pandas as pd"
   ]
  },
  {
   "cell_type": "markdown",
   "metadata": {},
   "source": [
    "## Here we show how we can implement linear_search() function with looped TF. \n",
    "\n",
    "The input/output of the linear_search function we are implementing is:\n",
    "- Input: an array of scalars (denoted as input_list = [a_1, ..., a_L]), a target number T\n",
    "- Output: if the array contains the target number, it outputs the index  i satisfying a_i = T; otherwise, it says the array does not have the target number\n",
    "\n",
    "This jupyter notebook is organized as below:\n",
    "\n",
    "1. We first specify \n",
    "- the memory & SUBLEQ commands to define the linear_search function \n",
    "- the parameters used for building the looped TF \n",
    "\n",
    "2. We run linear_search with SUBLEQ commands manually (without using TF)\n",
    "\n",
    "3. We run linear_search with SUBLEQ commands by Looped TF\n",
    "\n",
    "4. We check whether our Looped TF implementation result matches with ground truth value"
   ]
  },
  {
   "cell_type": "markdown",
   "metadata": {},
   "source": [
    "## 1. Setup"
   ]
  },
  {
   "cell_type": "markdown",
   "metadata": {},
   "source": [
    "### Specify the parameters for the program linear_search"
   ]
  },
  {
   "cell_type": "code",
   "execution_count": 4,
   "metadata": {},
   "outputs": [],
   "source": [
    "task_name = 'linear_search'\n",
    "input_list = [-7, -6, -5, -4, 3, 2, 1] # put the list we have\n",
    "T = 1 # put the target number we are searching for in this list\n",
    "L = len(input_list)"
   ]
  },
  {
   "cell_type": "code",
   "execution_count": 5,
   "metadata": {},
   "outputs": [],
   "source": [
    "# write subleq commands & initial memory for the given input_ftrl\n",
    "import csv\n",
    "\n",
    "## memory (written in \"name=initial_value\" format)\n",
    "# [M_1] MINUS_ONE = -1 (we set a constant for implementing EOF)\n",
    "# [M_2] ZERO = 0 (we set a constant for implementing EOF)\n",
    "# [M_3] a_1 = input_list[0]\n",
    "# ...\n",
    "# [M_{L+2}] a_L = input_list[L-1]\n",
    "# [M_{L+3}] temp_1 = 0\n",
    "# [M_{L+4}] temp_2 = 0\n",
    "# [M_{L+5}] target = T\n",
    "# [M_{L+6}] flag = 1   # save whether we failed (flag=1: failure, flag=0: success)\n",
    "# [M_{L+7}] index = 0 # save the index (where the target number is located in the list)\n",
    "\n",
    "mems = np.concatenate((np.array([-1, 0]), \n",
    "                      np.asarray(input_list), \n",
    "                      np.array([0, 0, T, 1, 0]))).reshape(-1, 1) \n",
    "mems_path = 'inputs/{}_init_mem.csv'.format(task_name)\n",
    "pd.DataFrame(mems).to_csv(mems_path, header  = ['mem'], index=False)    \n",
    "\n",
    "## commands \n",
    "# NOTE: subleq a,b,c does two things:\n",
    "# 1. mem[b] = mem[b] - mem[a]\n",
    "# 2. if mem[b] <= 0: goto instruction c\n",
    "#   else: goto next instruction\n",
    "\n",
    "# [C_1] subleq a_i, temp_2, C_2         (set temp_2 = -a_i)\n",
    "# [C_2] subleq temp_2, temp_1, C_3      (set temp_1 = a_i)\n",
    "# [C_3] subleq target, temp_1, C_6      (check whether temp_1 = a_i - T <= 0)\n",
    "# [C_4] subleq temp_1, temp_1, C_5      (reset temp_1 = 0)\n",
    "# [C_5] subleq temp_2, temp_2, C_11     (reset temp_2 = 0, failure)\n",
    "# [C_6] subleq temp_2, temp_2, C_7      (reset temp_2 = 0)\n",
    "# [C_7] subleq temp_1, temp_2, C_10.    (check whether temp_2 = T - a_i <= 0)\n",
    "# [C_8] subleq temp_1, temp_1, C_9      (reset temp_1 = 0)\n",
    "# [C_9] subleq temp_2, temp_2, C_11     (reset temp_2 = 0, failure)\n",
    "# [C_10] subleq flag, flag, EOF    (set flag=0 and go to EOF, success)\n",
    "# [C_11] subleq MINUS_ONE, index, C_12  (index+=1, go to a_2)\n",
    "\n",
    "# ... (concatenate above for i=1, ..., L, to check whether a_i = T)\n",
    "\n",
    "# [C_{11L}] subleq MINUS_ONE, index, C_{11L+1}\n",
    "# [C_{11L+1}] subleq ZERO, MINUS_ONE, C_{11L+1} # EOF\n",
    "\n",
    "\n",
    "cmds = []\n",
    "EOF = 11*L+1\n",
    "for l in range(L):\n",
    "    cmds.append([3+l,L+4,11*l+2])   \n",
    "    cmds.append([L+4,L+3,11*l+3]) \n",
    "    cmds.append([L+5,L+3,11*l+6]) \n",
    "    cmds.append([L+3,L+3,11*l+5]) \n",
    "    cmds.append([L+4,L+4,11*l+11]) \n",
    "    cmds.append([L+4,L+4,11*l+7])     \n",
    "    cmds.append([L+3,L+4,11*l+10])\n",
    "    cmds.append([L+3,L+3,11*l+9])\n",
    "    cmds.append([L+4,L+4,11*l+11])\n",
    "    cmds.append([L+6,L+6,EOF])\n",
    "    cmds.append([1,L+7,11*l+12])\n",
    "cmds.append([2,1,EOF])\n",
    "cmds = np.asarray(cmds)\n",
    "#cmds.shape"
   ]
  },
  {
   "cell_type": "markdown",
   "metadata": {},
   "source": [
    "### Specify the parameters for defining the matrix X (input to TF)"
   ]
  },
  {
   "cell_type": "code",
   "execution_count": 6,
   "metadata": {},
   "outputs": [],
   "source": [
    "num_cmds = cmds.shape[0]\n",
    "num_mems = mems.shape[0]\n",
    "s = 2 # s: number of columns in X for scratchpad (larger than 1 is enough?)\n",
    "m = num_mems # m: number of columns in X for memory\n",
    "n = s + m + num_cmds # n: number of columns in X in total (for scratchpad, memory and commands)\n",
    "logn = int(np.ceil(np.log2(n)))\n",
    "\n",
    "# decide N based on the memory element with the largest magnitude\n",
    "max_element = np.max(np.abs(input_list)) # max_i |a_i|\n",
    "max_diff = np.max(np.abs(np.asarray(input_list) - T)) # max_i |a_i - T|\n",
    "max_index = L\n",
    "max_mem = np.amax([max_element, max_diff, max_index])\n",
    "#print('max memory: ', max_mem)\n",
    "N = int(np.floor(np.log2(max_mem)))+3 # N: number of bits used to represent the integer values in each memory element\n",
    "\n",
    "\n",
    "# Specify the number of rows of input X\n",
    "# nrows_list: list of number of rows for each block (cmds, memory, scratchpad, program counter, positional encoding, buffer, indicator)\n",
    "# row_idx_list: list of row index each block starts (memory, scratchpad, program counter, positional encoding, buffer) except cmds & indicator\n",
    "from utils import get_nrows_subleq, get_row_idx_list_subleq\n",
    "nrows_cmds, nrows_memory, nrows_scratchpad, nrows_pc, nrows_pos_enc, nrows_buffer = get_nrows_subleq(logn, N) \n",
    "num_rows_X = nrows_cmds + nrows_memory + nrows_scratchpad + nrows_pc + nrows_pos_enc + nrows_buffer + 1 \n",
    "nrows_list = [nrows_cmds, nrows_memory, nrows_scratchpad, nrows_pc, nrows_pos_enc, nrows_buffer, 1] \n",
    "row_idx_list = get_row_idx_list_subleq(nrows_list) \n",
    "idx_memory, idx_scratchpad, idx_pc, idx_pos_enc, idx_buffer = row_idx_list"
   ]
  },
  {
   "cell_type": "markdown",
   "metadata": {},
   "source": [
    "### revise & save the cmds.csv "
   ]
  },
  {
   "cell_type": "code",
   "execution_count": 7,
   "metadata": {},
   "outputs": [],
   "source": [
    "## add -1 to the address info (mem[a], mem[b], next_cmd) in SUBLEQ cmds\n",
    "cmds = cmds - 1\n",
    "\n",
    "## change the index of memory & command in cmds.txt [i -> s+i] [j -> s+m+j]\n",
    "cmds[:, :2] = cmds[:, :2] + s\n",
    "cmds[:, 2] = cmds[:, 2] + s + m"
   ]
  },
  {
   "cell_type": "code",
   "execution_count": 8,
   "metadata": {},
   "outputs": [],
   "source": [
    "cmds_path = 'inputs/{}_cmds.csv'.format(task_name)\n",
    "pd.DataFrame(cmds).to_csv(cmds_path, header  = ['a','b','c'], index=False)    "
   ]
  },
  {
   "cell_type": "markdown",
   "metadata": {},
   "source": [
    "### Load input text files: (1) the subleq commands, (2) the registers"
   ]
  },
  {
   "cell_type": "code",
   "execution_count": 9,
   "metadata": {},
   "outputs": [],
   "source": [
    "# load the input files \n",
    "cmds_filename = 'inputs/{}_cmds.csv'.format(task_name)\n",
    "cmds_df = pd.read_csv(cmds_filename)\n",
    "cmds = cmds_df.to_numpy()\n",
    "mem_filename = 'inputs/{}_init_mem.csv'.format(task_name)\n",
    "mem_df = pd.read_csv(mem_filename)\n",
    "mem = mem_df.to_numpy().reshape(-1,)"
   ]
  },
  {
   "cell_type": "code",
   "execution_count": 10,
   "metadata": {
    "scrolled": true
   },
   "outputs": [],
   "source": [
    "# check the validity of input files\n",
    "for i in range(len(cmds)):\n",
    "    #print(i)\n",
    "    (cmd_a, cmd_b, cmd_c) = cmds[i]\n",
    "    assert(cmd_a >= s)   # a, b \\in [s:s+m] \n",
    "    assert(cmd_a < s+m)   \n",
    "    assert(cmd_b >= s)\n",
    "    assert(cmd_b < s+m)    \n",
    "    assert(cmd_c >= s+m) # c \\in [s+m:n]\n",
    "    assert(cmd_c < n)        \n",
    "assert(len(mem) == m) # mem should have $m$ elements\n",
    "\n",
    "for i in range(len(mem)):\n",
    "    assert(mem[i] <= 2**(N-2)-1)\n",
    "    assert(mem[i] >= -2**(N-2))    \n",
    "    \n"
   ]
  },
  {
   "cell_type": "markdown",
   "metadata": {},
   "source": [
    "### Define the matrix X"
   ]
  },
  {
   "cell_type": "code",
   "execution_count": 11,
   "metadata": {
    "scrolled": true
   },
   "outputs": [],
   "source": [
    "from utils import init_input\n",
    "X, _ = init_input(s,m,n,logn,N,num_rows_X,cmds,nrows_list,row_idx_list,opt=None,mem_given=mem)"
   ]
  },
  {
   "cell_type": "markdown",
   "metadata": {},
   "source": [
    "## 2. Run factorial (using subleq) manually"
   ]
  },
  {
   "cell_type": "code",
   "execution_count": 12,
   "metadata": {},
   "outputs": [],
   "source": [
    "num_loops = 11*L+2 \n",
    "from utils import run_manual_subleq\n",
    "manual_subleq_results = run_manual_subleq(cmds, mem, s, m, n, N, num_loops=num_loops)"
   ]
  },
  {
   "cell_type": "code",
   "execution_count": 14,
   "metadata": {},
   "outputs": [],
   "source": [
    "header = ['mem[0]']\n",
    "for i in range(m-2):\n",
    "    header.append('...')\n",
    "header = np.append(header, ['mem[m-1]', 'a', 'b', 'c', 'mem[a]', 'mem[b]', 'mem[b]-mem[a]', 'flag', 'p-next'])\n",
    "manual_subleq_results_df = pd.DataFrame(manual_subleq_results, columns=header)"
   ]
  },
  {
   "cell_type": "markdown",
   "metadata": {},
   "source": [
    "## 3. Run SUBLEQ using our TF architecture"
   ]
  },
  {
   "cell_type": "code",
   "execution_count": 15,
   "metadata": {
    "scrolled": true
   },
   "outputs": [],
   "source": [
    "from subleq import read_inst, read_mem, subtract_mem, write_mem, conditional_branching, error_correction\n",
    "import os\n",
    "our_subleq_results = []\n",
    "our_curr_result = [] \n",
    "lam=100 # lambda used for softmax in TF # need to increase as input_fctl increases?\n",
    "\n",
    "for i in range(num_loops):\n",
    "    #print('we are in loop ', i)\n",
    "    \n",
    "    # Step 1. read instruction & check a, b, c \n",
    "    X1, our_curr_result, TF_read_inst = read_inst(X,s,m,n,logn,num_rows_X,N,i+1,nrows_list,row_idx_list,None,our_curr_result,lam) \n",
    "    # Step 2. read memory & check mem[a], mem[b]\n",
    "    X2, our_curr_result, TF_mem = read_mem(X1,n,logn,num_rows_X,N,i+1,nrows_list,row_idx_list,None,our_curr_result,lam) \n",
    "    # Step 3. subtract memory & check mem[b]-mem[a] \n",
    "    X3, our_curr_result, *TF_subtract_mem = subtract_mem(X2,n,logn,num_rows_X,N,i+1,nrows_list,row_idx_list,None,our_curr_result,lam) \n",
    "    # Step 4. write memory \n",
    "    X4, our_curr_result, TF_write_mem = write_mem(X3,n,logn,num_rows_X,N,i+1,nrows_list,row_idx_list,None,our_curr_result,lam) \n",
    "    # Step 5. conditional branching & check flag, p_{next}\n",
    "    X5, our_curr_result, *TF_cond_branch = conditional_branching(X4,n,logn,num_rows_X,N,i+1,nrows_list,row_idx_list,None,our_curr_result,lam) \n",
    "    # Step 6. error correction        \n",
    "    X6, our_curr_result, TF_err_corr = error_correction(X5,n,logn,num_rows_X,N,i+1,nrows_list,row_idx_list,None,our_curr_result,lam) \n",
    "\n",
    "    X = X6 # go to the next loop\n",
    "    our_subleq_results.append(tuple(our_curr_result))\n",
    "    #print(our_curr_result)"
   ]
  },
  {
   "cell_type": "code",
   "execution_count": 16,
   "metadata": {},
   "outputs": [],
   "source": [
    "our_subleq_results_df = pd.DataFrame(our_subleq_results, columns=header)\n",
    "#our_subleq_results_df"
   ]
  },
  {
   "cell_type": "markdown",
   "metadata": {},
   "source": [
    "## 4. Compare our TF SUBLEQ result & manual SUBLEQ result"
   ]
  },
  {
   "cell_type": "code",
   "execution_count": 66,
   "metadata": {},
   "outputs": [],
   "source": [
    "## memory (written in \"name=initial_value\" format)\n",
    "# [M_1] MINUS_ONE = -1 (we set a constant for implementing EOF)\n",
    "# [M_2] ZERO = 0 (we set a constant for implementing EOF)\n",
    "# [M_3] a_1 = input_list[0]\n",
    "# ...\n",
    "# [M_{L+2}] a_L = input_list[L-1]\n",
    "# [M_{L+3}] temp_1 = 0\n",
    "# [M_{L+4}] temp_2 = 0\n",
    "# [M_{L+5}] target = T\n",
    "# [M_{L+6}] flag = 0   # save whether we successed\n",
    "# [M_{L+7}] index = 0 # save the index (where the target number is located in the list)"
   ]
  },
  {
   "cell_type": "code",
   "execution_count": 17,
   "metadata": {},
   "outputs": [
    {
     "name": "stdout",
     "output_type": "stream",
     "text": [
      "original list:  [-7, -6, -5, -4, 3, 2, 1]\n",
      "target number:  1\n",
      "applying linear_search operation\n"
     ]
    }
   ],
   "source": [
    "print('original list: ', input_list)\n",
    "print('target number: ', T)\n",
    "print('applying {} operation'.format(task_name))"
   ]
  },
  {
   "cell_type": "code",
   "execution_count": 18,
   "metadata": {},
   "outputs": [
    {
     "name": "stdout",
     "output_type": "stream",
     "text": [
      "Ground Truth: The target number 1 is included in the list [-7, -6, -5, -4, 3, 2, 1], for the first time at index 6\n"
     ]
    }
   ],
   "source": [
    "## Ground truth result\n",
    "true_indices = np.where(np.array(input_list) == T)[0]\n",
    "if len(true_indices) == 0:\n",
    "    true_failure = 1\n",
    "    true_index = None\n",
    "    print(\"Ground Truth: The target number {} is NOT included in the list {}\".format(T, input_list))\n",
    "else:\n",
    "    true_failure = 0\n",
    "    true_index = true_indices[0]\n",
    "    print(\"Ground Truth: The target number {} is included in the list {}, for the first time at index {}\".format(T, input_list, true_index))    "
   ]
  },
  {
   "cell_type": "code",
   "execution_count": 19,
   "metadata": {},
   "outputs": [
    {
     "name": "stdout",
     "output_type": "stream",
     "text": [
      "Manual SUBLEQ: The target number 1 is included in the list [-7, -6, -5, -4, 3, 2, 1], for the first time at index 6\n"
     ]
    }
   ],
   "source": [
    "## Manual SUBLEQ result\n",
    "manual_failure = manual_subleq_results[-1][m-2]\n",
    "manual_index = manual_subleq_results[-1][m-1]\n",
    "if manual_failure:\n",
    "    manual_index = None\n",
    "    print(\"Manual SUBLEQ: The target number {} is NOT included in the list {}\".format(T, input_list))\n",
    "else:\n",
    "    print(\"Manual SUBLEQ: The target number {} is included in the list {}, for the first time at index {}\".format(T, input_list, manual_index))            "
   ]
  },
  {
   "cell_type": "code",
   "execution_count": 20,
   "metadata": {},
   "outputs": [
    {
     "name": "stdout",
     "output_type": "stream",
     "text": [
      "TF SUBLEQ: The target number 1 is included in the list [-7, -6, -5, -4, 3, 2, 1], for the first time at index 6\n"
     ]
    }
   ],
   "source": [
    "## TF SUBLEQ result\n",
    "TF_failure = our_subleq_results[-1][m-2]\n",
    "TF_index = our_subleq_results[-1][m-1]\n",
    "if TF_failure:\n",
    "    TF_index = None\n",
    "    print(\"TF SUBLEQ: The target number {} is NOT included in the list {}\".format(T, input_list))\n",
    "else:\n",
    "    print(\"TF SUBLEQ: The target number {} is included in the list {}, for the first time at index {}\".format(T, input_list, TF_index))"
   ]
  },
  {
   "cell_type": "code",
   "execution_count": 21,
   "metadata": {},
   "outputs": [
    {
     "name": "stdout",
     "output_type": "stream",
     "text": [
      "The linear_search in TF works properly!\n"
     ]
    }
   ],
   "source": [
    "if [true_index, manual_index, TF_index] is [None, None, None]:\n",
    "    print('The {} in TF works properly!'.format(task_name))\n",
    "elif true_index == manual_index and true_index == TF_index:\n",
    "    print('The {} in TF works properly!'.format(task_name))\n",
    "else:\n",
    "    print('Check the code again :p')"
   ]
  }
 ],
 "metadata": {
  "kernelspec": {
   "display_name": "Python 3",
   "language": "python",
   "name": "python3"
  },
  "language_info": {
   "codemirror_mode": {
    "name": "ipython",
    "version": 3
   },
   "file_extension": ".py",
   "mimetype": "text/x-python",
   "name": "python",
   "nbconvert_exporter": "python",
   "pygments_lexer": "ipython3",
   "version": "3.8.5"
  }
 },
 "nbformat": 4,
 "nbformat_minor": 5
}
