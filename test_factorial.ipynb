{
 "cells": [
  {
   "cell_type": "markdown",
   "metadata": {},
   "source": [
    "# Task: Build Transformer (TF) for implementing factorial"
   ]
  },
  {
   "cell_type": "code",
   "execution_count": 1,
   "metadata": {},
   "outputs": [],
   "source": [
    "%load_ext autoreload\n",
    "%autoreload 2\n",
    "import numpy as np\n",
    "import pandas as pd"
   ]
  },
  {
   "cell_type": "markdown",
   "metadata": {},
   "source": [
    "## Here we show how we can implement factorial() function with looped TF. \n",
    "\n",
    "The input/output of the factorial function we are implementing is:\n",
    "- Input: input_ftrl (the number we want to compute the factorial)\n",
    "- Output: (input_ftrl)!\n",
    "\n",
    "This jupyter notebook is organized as below:\n",
    "\n",
    "1. We first specify \n",
    "- the memory & SUBLEQ commands to define the factorial function \n",
    "- the parameters used for building the looped TF \n",
    "\n",
    "2. We run factorial with SUBLEQ commands manually (without using TF)\n",
    "\n",
    "3. We run factorial with SUBLEQ commands by Looped TF\n",
    "\n",
    "4. We check whether our Looped TF implementation result matches with ground truth value?"
   ]
  },
  {
   "cell_type": "markdown",
   "metadata": {},
   "source": [
    "## 1. Setup"
   ]
  },
  {
   "cell_type": "markdown",
   "metadata": {},
   "source": [
    "### Specify the parameters for computing the factorial, i.e., (input_ftrl)!"
   ]
  },
  {
   "cell_type": "code",
   "execution_count": 2,
   "metadata": {},
   "outputs": [],
   "source": [
    "input_ftrl = 7 # put the value we want to compute the factorial"
   ]
  },
  {
   "cell_type": "code",
   "execution_count": 3,
   "metadata": {},
   "outputs": [],
   "source": [
    "# write subleq commands & initial memory for the given input_ftrl\n",
    "import csv\n",
    "\n",
    "## memory (written in \"name=initial_value\" format)\n",
    "# [M1] MINUS_ONE = -1 (we set a constant for implementing EOF)\n",
    "# [M2] ZERO = 0 (we set a constant for implementing EOF)\n",
    "# [M3] N = (the input number we want to compute factorial)\n",
    "# [M4] N' = -N\n",
    "# [M5] counter = 0\n",
    "# [M6] temp = 0\n",
    "# [M7] minus_two = -2\n",
    "# [M8] minus_one = -1\n",
    "# [M9] zero = 0\n",
    "# [M10] one = 1\n",
    "mems = np.asarray([-1, 0, input_ftrl, -input_ftrl, 0, 0, -2, -1, 0, 1]).reshape(-1, 1) \n",
    "mems_path = 'inputs/ftrl_init_mem.csv'\n",
    "pd.DataFrame(mems).to_csv(mems_path, header  = ['mem'], index=False)    \n",
    "\n",
    "## commands \n",
    "# NOTE: subleq a,b,c does two things:\n",
    "# 1. mem[b] = mem[b] - mem[a]\n",
    "# 2. if mem[b] <= 0: goto instruction c\n",
    "#   else: goto next instruction\n",
    "# [C1] subleq N, temp, C2\n",
    "# [C2] subleq minus_two, temp, C4\n",
    "# [C3] subleq minus_one, temp, C4\n",
    "# [C4] subleq temp, counter, C11 (EOF)\n",
    "# [C5] subleq N', N, C11 (EOF)\n",
    "# [C6] subleq one, counter, C8\n",
    "# [C7] subleq zero, zero, C5 \n",
    "# [C8] subleq N', N', C9\n",
    "# [C9] subleq N, N', C10\n",
    "# [C10] subleq zero, zero, C3\n",
    "# [C11] subleq ZERO, MINUS_ONE, C11 (EOF)\n",
    "cmds = np.asarray(\n",
    "    [[3,6,2], [7,6,4], [8,6,4], [6,5,11], [4,3,11], [10,5,8], \n",
    "     [9,9,5], [4,4,9], [3,4,10], [9,9,3], [2,1,11]\n",
    "    ])"
   ]
  },
  {
   "cell_type": "markdown",
   "metadata": {},
   "source": [
    "### Specify the parameters for defining the matrix X (input to TF)"
   ]
  },
  {
   "cell_type": "code",
   "execution_count": 4,
   "metadata": {},
   "outputs": [],
   "source": [
    "num_cmds = cmds.shape[0]\n",
    "num_mems = mems.shape[0]\n",
    "s = 2 # s: number of columns in X for scratchpad (larger than 1 is enough?)\n",
    "m = num_mems # m: number of columns in X for memory\n",
    "n = s + m + num_cmds # n: number of columns in X in total (for scratchpad, memory and commands)\n",
    "logn = int(np.ceil(np.log2(n)))\n",
    "\n",
    "# compute real factorial (just for getting the number range to decide N)\n",
    "output_ftrl = 1\n",
    "for i in range(1, input_ftrl+1):\n",
    "    output_ftrl = output_ftrl * i\n",
    "N = int(np.floor(np.log2(output_ftrl)))+3 # N: number of bits used to represent the integer values in each memory element\n",
    "\n",
    "\n",
    "# Specify the number of rows of input X\n",
    "# nrows_list: list of number of rows for each block (cmds, memory, scratchpad, program counter, positional encoding, buffer, indicator)\n",
    "# row_idx_list: list of row index each block starts (memory, scratchpad, program counter, positional encoding, buffer) except cmds & indicator\n",
    "from utils import get_nrows_subleq, get_row_idx_list_subleq\n",
    "nrows_cmds, nrows_memory, nrows_scratchpad, nrows_pc, nrows_pos_enc, nrows_buffer = get_nrows_subleq(logn, N) \n",
    "num_rows_X = nrows_cmds + nrows_memory + nrows_scratchpad + nrows_pc + nrows_pos_enc + nrows_buffer + 1 \n",
    "nrows_list = [nrows_cmds, nrows_memory, nrows_scratchpad, nrows_pc, nrows_pos_enc, nrows_buffer, 1] \n",
    "row_idx_list = get_row_idx_list_subleq(nrows_list) \n",
    "idx_memory, idx_scratchpad, idx_pc, idx_pos_enc, idx_buffer = row_idx_list"
   ]
  },
  {
   "cell_type": "markdown",
   "metadata": {},
   "source": [
    "### revise & save the cmds.csv "
   ]
  },
  {
   "cell_type": "code",
   "execution_count": 5,
   "metadata": {},
   "outputs": [],
   "source": [
    "## add -1 to the address info (mem[a], mem[b], next_cmd) in SUBLEQ cmds\n",
    "cmds = cmds - 1\n",
    "\n",
    "## change the index of memory & command in cmds.txt [i -> s+i] [j -> s+m+j]\n",
    "cmds[:, :2] = cmds[:, :2] + s\n",
    "cmds[:, 2] = cmds[:, 2] + s + m"
   ]
  },
  {
   "cell_type": "code",
   "execution_count": 6,
   "metadata": {},
   "outputs": [],
   "source": [
    "cmds_path = 'inputs/ftrl_cmds.csv'\n",
    "pd.DataFrame(cmds).to_csv(cmds_path, header  = ['a','b','c'], index=False)    "
   ]
  },
  {
   "cell_type": "markdown",
   "metadata": {},
   "source": [
    "### Load input text files: (1) the subleq commands, (2) the registers"
   ]
  },
  {
   "cell_type": "code",
   "execution_count": 7,
   "metadata": {},
   "outputs": [],
   "source": [
    "# load the input files \n",
    "cmds_filename = 'inputs/ftrl_cmds.csv'\n",
    "cmds_df = pd.read_csv(cmds_filename)\n",
    "cmds = cmds_df.to_numpy()\n",
    "mem_filename = 'inputs/ftrl_init_mem.csv'\n",
    "mem_df = pd.read_csv(mem_filename)\n",
    "mem = mem_df.to_numpy().reshape(-1,)"
   ]
  },
  {
   "cell_type": "code",
   "execution_count": 8,
   "metadata": {
    "scrolled": true
   },
   "outputs": [],
   "source": [
    "# check the validity of input files\n",
    "for i in range(len(cmds)):\n",
    "    #print(i)\n",
    "    (cmd_a, cmd_b, cmd_c) = cmds[i]\n",
    "    assert(cmd_a >= s)   # a, b \\in [s:s+m] \n",
    "    assert(cmd_a < s+m)   \n",
    "    assert(cmd_b >= s)\n",
    "    assert(cmd_b < s+m)    \n",
    "    assert(cmd_c >= s+m) # c \\in [s+m:n]\n",
    "    assert(cmd_c < n)        \n",
    "assert(len(mem) == m) # mem should have $m$ elements\n",
    "\n",
    "for i in range(len(mem)):\n",
    "    assert(mem[i] <= 2**(N-2)-1)\n",
    "    assert(mem[i] >= -2**(N-2))    \n",
    "    \n"
   ]
  },
  {
   "cell_type": "markdown",
   "metadata": {},
   "source": [
    "### Define the matrix X"
   ]
  },
  {
   "cell_type": "code",
   "execution_count": 9,
   "metadata": {
    "scrolled": true
   },
   "outputs": [],
   "source": [
    "from utils import init_input\n",
    "X, _ = init_input(s,m,n,logn,N,num_rows_X,cmds,nrows_list,row_idx_list,opt=None,mem_given=mem)"
   ]
  },
  {
   "cell_type": "markdown",
   "metadata": {},
   "source": [
    "## 2. Run factorial (using subleq) manually"
   ]
  },
  {
   "cell_type": "code",
   "execution_count": 10,
   "metadata": {},
   "outputs": [],
   "source": [
    "num_loops = 500 # need to increase as input_fctl increases?\n",
    "from utils import run_manual_subleq\n",
    "manual_subleq_results = run_manual_subleq(cmds, mem, s, m, n, N, num_loops=num_loops)\n",
    "#manual_subleq_results"
   ]
  },
  {
   "cell_type": "code",
   "execution_count": 11,
   "metadata": {},
   "outputs": [],
   "source": [
    "header = ['mem[0]']\n",
    "for i in range(m-2):\n",
    "    header.append('...')\n",
    "header = np.append(header, ['mem[m-1]', 'a', 'b', 'c', 'mem[a]', 'mem[b]', 'mem[b]-mem[a]', 'flag', 'p-next'])\n",
    "manual_subleq_results_df = pd.DataFrame(manual_subleq_results, columns=header)"
   ]
  },
  {
   "cell_type": "markdown",
   "metadata": {},
   "source": [
    "## 3. Run SUBLEQ using our TF architecture"
   ]
  },
  {
   "cell_type": "code",
   "execution_count": 12,
   "metadata": {
    "scrolled": true
   },
   "outputs": [],
   "source": [
    "from subleq import read_inst, read_mem, subtract_mem, write_mem, conditional_branching, error_correction\n",
    "import os\n",
    "our_subleq_results = []\n",
    "our_curr_result = [] \n",
    "lam=100 # lambda used for softmax in TF # need to increase as input_fctl increases?\n",
    "\n",
    "for i in range(num_loops):\n",
    "    #print('we are in loop ', i)\n",
    "    \n",
    "    # Step 1. read instruction & check a, b, c \n",
    "    X1, our_curr_result, TF_read_inst = read_inst(X,s,m,n,logn,num_rows_X,N,i+1,nrows_list,row_idx_list,None,our_curr_result,lam) \n",
    "    # Step 2. read memory & check mem[a], mem[b]\n",
    "    X2, our_curr_result, TF_mem = read_mem(X1,n,logn,num_rows_X,N,i+1,nrows_list,row_idx_list,None,our_curr_result,lam) \n",
    "    # Step 3. subtract memory & check mem[b]-mem[a] \n",
    "    X3, our_curr_result, *TF_subtract_mem = subtract_mem(X2,n,logn,num_rows_X,N,i+1,nrows_list,row_idx_list,None,our_curr_result,lam) \n",
    "    # Step 4. write memory \n",
    "    X4, our_curr_result, TF_write_mem = write_mem(X3,n,logn,num_rows_X,N,i+1,nrows_list,row_idx_list,None,our_curr_result,lam) \n",
    "    # Step 5. conditional branching & check flag, p_{next}\n",
    "    X5, our_curr_result, *TF_cond_branch = conditional_branching(X4,n,logn,num_rows_X,N,i+1,nrows_list,row_idx_list,None,our_curr_result,lam) \n",
    "    # Step 6. error correction        \n",
    "    X6, our_curr_result, TF_err_corr = error_correction(X5,n,logn,num_rows_X,N,i+1,nrows_list,row_idx_list,None,our_curr_result,lam) \n",
    "\n",
    "    X = X6 # go to the next loop\n",
    "    our_subleq_results.append(tuple(our_curr_result))\n",
    "    #print(our_curr_result)"
   ]
  },
  {
   "cell_type": "code",
   "execution_count": 13,
   "metadata": {},
   "outputs": [],
   "source": [
    "our_subleq_results_df = pd.DataFrame(our_subleq_results, columns=header)\n",
    "#our_subleq_results_df"
   ]
  },
  {
   "cell_type": "markdown",
   "metadata": {},
   "source": [
    "## 4. Compare our TF SUBLEQ result & manual SUBLEQ result"
   ]
  },
  {
   "cell_type": "code",
   "execution_count": 14,
   "metadata": {},
   "outputs": [
    {
     "name": "stdout",
     "output_type": "stream",
     "text": [
      "The factorial of 7, the actual value, is 5040\n",
      "The factorial of 7, computed in subleq manually, is 5040\n",
      "The factorial of 7, computed in subleq using TF, is 5040\n",
      "(-1, 0, 5040, -5040, 0, 0, -2, -1, 0, 1, 3, 2, 22, 0, -1, -1, 1, 22) \n",
      " (-1, 0, 5040, -5040, 0, 0, -2, -1, 0, 1, 3, 2, 22, 0, -1, -1, 1, 22)\n",
      "The factorial in TF works properly!\n"
     ]
    }
   ],
   "source": [
    "fact = manual_subleq_results[-1][2] # extract mem[2] from the final result of manual computation\n",
    "TF_fact = our_subleq_results[-1][2] # extract mem[2] from the final result of TF\n",
    "\n",
    "print('The factorial of {}, the actual value, is {}'.format(input_ftrl, output_ftrl))\n",
    "print('The factorial of {}, computed in subleq manually, is {}'.format(input_ftrl, fact))\n",
    "print('The factorial of {}, computed in subleq using TF, is {}'.format(input_ftrl, TF_fact))\n",
    "print(manual_subleq_results[-1], '\\n', our_subleq_results[-1])\n",
    "if output_ftrl == our_subleq_results[-1][2]:\n",
    "    print('The factorial in TF works properly!')\n",
    "else:\n",
    "    print('Check the code again :p')"
   ]
  },
  {
   "cell_type": "code",
   "execution_count": null,
   "metadata": {},
   "outputs": [],
   "source": []
  }
 ],
 "metadata": {
  "kernelspec": {
   "display_name": "Python 3",
   "language": "python",
   "name": "python3"
  },
  "language_info": {
   "codemirror_mode": {
    "name": "ipython",
    "version": 3
   },
   "file_extension": ".py",
   "mimetype": "text/x-python",
   "name": "python",
   "nbconvert_exporter": "python",
   "pygments_lexer": "ipython3",
   "version": "3.8.5"
  }
 },
 "nbformat": 4,
 "nbformat_minor": 5
}
